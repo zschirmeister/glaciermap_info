{
 "cells": [
  {
   "cell_type": "markdown",
   "metadata": {},
   "source": [
    "# Glacier map with information about selected glaciers"
   ]
  },
  {
   "cell_type": "markdown",
   "metadata": {},
   "source": [
    "### Import packages"
   ]
  },
  {
   "cell_type": "code",
   "execution_count": null,
   "metadata": {},
   "outputs": [],
   "source": [
    "import panel as pn\n",
    "import os, numpy as np, pandas as pd, cartopy.crs as ccrs, bokeh\n",
    "import holoviews as hv, geoviews as gv, datashader as ds\n",
    "from bokeh.models import ColumnDataSource, OpenURL, TapTool, HoverTool, Plot, Range1d, Text, TapTool, CustomJS, Legend, LegendItem\n",
    "from bokeh.plotting import figure, show, output_notebook\n",
    "from bokeh.tile_providers import get_provider, Vendors\n",
    "from bokeh.io import output_file, show, output_notebook, reset_output\n",
    "from bokeh.models.markers import Circle\n",
    "hv.extension('bokeh', width=100)"
   ]
  },
  {
   "cell_type": "markdown",
   "metadata": {},
   "source": [
    "### Function for coordinates calculation"
   ]
  },
  {
   "cell_type": "code",
   "execution_count": null,
   "metadata": {},
   "outputs": [],
   "source": [
    "# prepare coordinates\n",
    "import math\n",
    "from ast import literal_eval\n",
    "\n",
    "def merc(Coords):\n",
    "    lat = Coords[0]\n",
    "    lon = Coords[1]\n",
    "\n",
    "    r_major = 6378137.000\n",
    "    x = r_major * math.radians(lon)\n",
    "    scale = x/lon\n",
    "    y = 180.0/math.pi * math.log(math.tan(math.pi/4.0 + \n",
    "        lat * (math.pi/180.0)/2.0)) * scale    \n",
    "    return (x, y)"
   ]
  },
  {
   "cell_type": "markdown",
   "metadata": {},
   "source": [
    "### Load data"
   ]
  },
  {
   "cell_type": "code",
   "execution_count": null,
   "metadata": {
    "scrolled": true
   },
   "outputs": [],
   "source": [
    "# a data file with provides a table with RGI IDs and parameters of interest\n",
    "df_all_all = pd.read_hdf('/home/zora/Dokumente/git/glacier-explorer/data/rgi62_era5_itmix_df.h5', 'df')\n",
    "df_all_all['rgi_id']= list(df_all_all.axes[0])\n",
    "df_all = df_all_all[['rgi_id', 'CenLon', 'CenLat', 'Area', 'Zmed','Lmax', 'Surging','Linkages', 'GlacierType','TerminusType', 'IsTidewater']].copy()\n",
    "df_all.tail()"
   ]
  },
  {
   "cell_type": "markdown",
   "metadata": {},
   "source": [
    "## Choose glaciers to show in map"
   ]
  },
  {
   "cell_type": "code",
   "execution_count": null,
   "metadata": {},
   "outputs": [],
   "source": [
    "# Fill in the data about the glaciers you want to add. The order of the RGIs has to be increasing. (In all Lists the order of the glaciers has to be the same.):\n",
    "RGI_No = ['RGI60-01.01104', 'RGI60-01.10689', 'RGI60-03.04539']                 # list of strings (RGI names e.g. [\"RGI60-01.01104\", \"RGI60-01.01105\"])\n",
    "Names = ['Lemon Creek Glacier', 'Columbia Glacier', 'White Glacier']            # list of strings\n",
    "Glaciertype = [\"\", \"\", \"\"]                                                      # list of strings, optional (Calving / Rock / debris covered / Valley glacier ... )\n",
    "list_years = [[2911, 2912, 2913, 2914], [411, 412, 413, 414, 415], [1611, 1612, 1613, 1614, 1615]] # list of lists of the years from which mass balance values exist. \n",
    "list_mb_values = [[1, 2, 3, 4], [100, 300, 300, 222, 333], [-12, 0, 41, 22, 33]]                   # list of lists of mass balance values in accordance with list of the years\n",
    "\n",
    "print(\"The number of the years is equal to the number of mb_values: \" + str(len(list_years) == len(list_mb_values)))"
   ]
  },
  {
   "cell_type": "code",
   "execution_count": null,
   "metadata": {},
   "outputs": [],
   "source": [
    "# a new dataframe with the chosen glaciers will be created\n",
    "df = df_all.loc[df_all['rgi_id'].isin(RGI_No)].copy()\n",
    "df['name'] = Names\n",
    "df['Coords'] = list(zip(round(df.CenLat,2), round(df.CenLon,2)))\n",
    "\n",
    "df['Mb_Years'] = list_years\n",
    "df['MBvals'] = list_mb_values\n",
    "df['defined_type'] = Glaciertype\n",
    "df.tail()"
   ]
  },
  {
   "cell_type": "markdown",
   "metadata": {},
   "source": [
    "## Build datastructure with all information to use it with bokeh"
   ]
  },
  {
   "cell_type": "code",
   "execution_count": null,
   "metadata": {},
   "outputs": [],
   "source": [
    "# prepare coordinates  \n",
    "df.loc[:, 'coords_x'] = df['Coords'].apply(lambda x: merc(x)[0])\n",
    "df.loc[:, 'coords_y'] = df['Coords'].apply(lambda x: merc(x)[1])\n",
    "\n",
    "source = ColumnDataSource(df)"
   ]
  },
  {
   "cell_type": "markdown",
   "metadata": {},
   "source": [
    "## Design for map and hover"
   ]
  },
  {
   "cell_type": "code",
   "execution_count": null,
   "metadata": {},
   "outputs": [],
   "source": [
    "# Hover\n",
    "# parameters shown in the hover: \n",
    "TOOLTIPS = \"\"\"\n",
    "    <div>\n",
    "        </div>\n",
    "        <div>\n",
    "            <span style=\"font-size: 17px; font-weight: bold;\">@name             </span> <br>\n",
    "            <span style=\"font-size: 15px;                   \">glacier type:     </span>\n",
    "            <span style=\"font-size: 15px;                   \">@defined_type     </span> <br>\n",
    "            <span style=\"font-size: 15px;                   \">Length:           </span>\n",
    "            <span style=\"font-size: 15px;                   \">@Lmax             </span>\n",
    "            <span style=\"font-size: 15px;                   \">m                 </span> <br>\n",
    "            <span style=\"font-size: 15px;                   \">@TerminusType     </span> <br>\n",
    "            <span style=\"font-size: 15px;                   \">Location          </span>\n",
    "            <span style=\"font-size: 10px; color: #696;      \">@CenLat, @CenLon  </span> <br>\n",
    "        </div>\n",
    "    </div>\n",
    "\"\"\"\n",
    "############################################################################\n",
    "# Create figure for the map\n",
    "p = figure(x_axis_type=\"mercator\", \n",
    "           y_axis_type=\"mercator\",\n",
    "           plot_width = 1000,\n",
    "           plot_height = 650,\n",
    "           background='black',\n",
    "           tools=['tap', 'wheel_zoom', 'reset', 'pan'])\n",
    "\n",
    "############################################################################\n",
    "# Design figure\n",
    "p.xaxis.visible = False\n",
    "p.yaxis.visible = False\n",
    "p.xgrid.visible = False\n",
    "p.ygrid.visible = False\n",
    "p.xgrid.grid_line_color = None\n",
    "\n",
    "############################################################################\n",
    "# add map\n",
    "tile_provider = get_provider(Vendors.CARTODBPOSITRON)\n",
    "p.add_tile(tile_provider)\n",
    "\n",
    "# add glacier dots\n",
    "p.circle(x='coords_x',\n",
    "         y='coords_y', \n",
    "         source=source,\n",
    "         size=10,\n",
    "         line_color=\"black\", \n",
    "         fill_alpha=0.9,\n",
    "        )\n",
    "# add markers around the dots when mouse is directly over glacier dots (belongs to hover)\n",
    "cr = p.circle(x='coords_x', y='coords_y', source=source, size=20,\n",
    "                fill_color=\"white\", hover_fill_color=\"blue\",\n",
    "                fill_alpha=0.0, hover_alpha=0.3,\n",
    "                line_color=None, hover_line_color=\"white\")\n",
    "# add hover\n",
    "hover = HoverTool(tooltips=TOOLTIPS, renderers=[cr])\n",
    "p.add_tools(hover)\n",
    "\n",
    "# Mass-balance figure\n",
    "# build a figure, which shows mass balance values of the glaciers\n",
    "from bokeh.models.glyphs import Line\n",
    "\n",
    "plot = figure(plot_width=500, plot_height=500, title=\"Mass Balance\")\n",
    "plot.xaxis.axis_label = \"Years\"\n",
    "plot.xaxis.axis_label_text_font_size = \"14pt\"\n",
    "plot.xaxis.major_label_text_font_size = \"12pt\"\n",
    "plot.yaxis.axis_label = \"[mm w.e./year]\"\n",
    "plot.yaxis.axis_label_text_font_size = \"14pt\"\n",
    "plot.yaxis.major_label_text_font_size = \"12pt\"\n",
    "\n",
    "lines = plot.line(x = 'x', y = 'y', source = ColumnDataSource({'x': np.arange(5), 'y': [0,0,0,0,0]}), line_width=2)\n",
    "lines.visible = False\n",
    "code = '''if (cb_data.source.selected.indices.length > 0){\n",
    "            lines.visible = true;\n",
    "            selected_index = cb_data.source.selected.indices[0];\n",
    "            lines.data_source.data['x'] = years[selected_index]\n",
    "            lines.data_source.data['y'] = mbvals[selected_index]\n",
    "            lines.data_source.change.emit(); \n",
    "          }'''\n",
    "\n",
    "# connect with map\n",
    "p.select(TapTool).callback = CustomJS(args = {'lines': lines, 'mbvals': df['MBvals'], 'years': df['Mb_Years']}, code = code)"
   ]
  },
  {
   "cell_type": "markdown",
   "metadata": {},
   "source": [
    "## Design Application"
   ]
  },
  {
   "cell_type": "code",
   "execution_count": null,
   "metadata": {},
   "outputs": [],
   "source": [
    "# Panel\n",
    "title       = '<div style=\"font-size:38px; color: #326a86; font-weight: bold\" >Glacier Gallery</div>'\n",
    "instruction = '<div style=\"font-size:15px; color: #326a86\" >Select a glacier by clicking on a dot on the world map. The figure on the right will show the corresponding mass balance values.</div>'\n",
    "oggm_logo   = '<a href=\"http://edu.oggm.org\"><img src=\"https://raw.githubusercontent.com/zschirmeister/glacier-gallery/master/oggm_loupe.png\" width=220></a>'\n",
    "pn_logo     = '<a href=\"https://panel.pyviz.org\"><img src=\"http://panel.pyviz.org/_static/logo_stacked.png\" width=60></a>'\n",
    "\n",
    "header = pn.Row(pn.Pane(oggm_logo),  pn.layout.Spacer(width=30), \n",
    "                pn.Column(pn.Row(pn.Spacer(width=130), pn.Pane(title, width=400)), pn.Pane(instruction, width=1200)),\n",
    "                pn.layout.HSpacer()\n",
    "                )\n",
    "# Put plot and text together and show it\n",
    "app = (pn.Column(header, pn.Row(pn.Pane(pn_logo, width=100), p, pn.Spacer(width=5), plot), width_policy='max', height_policy='max'))\n",
    "app.servable()"
   ]
  }
 ],
 "metadata": {
  "kernelspec": {
   "display_name": "Python 3",
   "language": "python",
   "name": "python3"
  },
  "language_info": {
   "codemirror_mode": {
    "name": "ipython",
    "version": 3
   },
   "file_extension": ".py",
   "mimetype": "text/x-python",
   "name": "python",
   "nbconvert_exporter": "python",
   "pygments_lexer": "ipython3",
   "version": "3.6.7"
  }
 },
 "nbformat": 4,
 "nbformat_minor": 4
}
